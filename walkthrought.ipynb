{
 "cells": [
  {
   "cell_type": "code",
   "execution_count": 26,
   "metadata": {},
   "outputs": [],
   "source": [
    "from ab_eval.core.utils import *\n",
    "from ab_eval.core.experiment import experiment\n",
    "from ab_eval.core.experiment_components import variations , evaluation_metrics"
   ]
  },
  {
   "cell_type": "markdown",
   "metadata": {},
   "source": [
    "## First of all we need to generate some fake data for our experiment"
   ]
  },
  {
   "cell_type": "code",
   "execution_count": 11,
   "metadata": {},
   "outputs": [
    {
     "name": "stderr",
     "output_type": "stream",
     "text": [
      "INFO:root:Fake test is generating with sample_size=100000.\n"
     ]
    }
   ],
   "source": [
    "df = generate_random_cvr_data(100000,0.4,0.43,days=10)"
   ]
  },
  {
   "cell_type": "markdown",
   "metadata": {},
   "source": [
    "## Lets have a look how the data looks like."
   ]
  },
  {
   "cell_type": "code",
   "execution_count": 12,
   "metadata": {},
   "outputs": [
    {
     "data": {
      "text/html": [
       "<div>\n",
       "<style scoped>\n",
       "    .dataframe tbody tr th:only-of-type {\n",
       "        vertical-align: middle;\n",
       "    }\n",
       "\n",
       "    .dataframe tbody tr th {\n",
       "        vertical-align: top;\n",
       "    }\n",
       "\n",
       "    .dataframe thead th {\n",
       "        text-align: right;\n",
       "    }\n",
       "</style>\n",
       "<table border=\"1\" class=\"dataframe\">\n",
       "  <thead>\n",
       "    <tr style=\"text-align: right;\">\n",
       "      <th></th>\n",
       "      <th>CVR</th>\n",
       "      <th>date</th>\n",
       "      <th>fullvisitorid</th>\n",
       "      <th>group</th>\n",
       "      <th>mCVR1</th>\n",
       "      <th>segment</th>\n",
       "      <th>visitid</th>\n",
       "    </tr>\n",
       "  </thead>\n",
       "  <tbody>\n",
       "    <tr>\n",
       "      <th>0</th>\n",
       "      <td>0</td>\n",
       "      <td>2018-01-01</td>\n",
       "      <td>50780742700347864206</td>\n",
       "      <td>A</td>\n",
       "      <td>1</td>\n",
       "      <td>new</td>\n",
       "      <td>1402569382</td>\n",
       "    </tr>\n",
       "    <tr>\n",
       "      <th>1</th>\n",
       "      <td>1</td>\n",
       "      <td>2018-01-01</td>\n",
       "      <td>34191904571769561485</td>\n",
       "      <td>B</td>\n",
       "      <td>0</td>\n",
       "      <td>new</td>\n",
       "      <td>1485232119</td>\n",
       "    </tr>\n",
       "    <tr>\n",
       "      <th>2</th>\n",
       "      <td>0</td>\n",
       "      <td>2018-01-01</td>\n",
       "      <td>59527551324205660629</td>\n",
       "      <td>B</td>\n",
       "      <td>1</td>\n",
       "      <td>returning</td>\n",
       "      <td>1499049536</td>\n",
       "    </tr>\n",
       "    <tr>\n",
       "      <th>3</th>\n",
       "      <td>1</td>\n",
       "      <td>2018-01-01</td>\n",
       "      <td>13042206713666236957</td>\n",
       "      <td>A</td>\n",
       "      <td>0</td>\n",
       "      <td>new</td>\n",
       "      <td>1418451888</td>\n",
       "    </tr>\n",
       "    <tr>\n",
       "      <th>4</th>\n",
       "      <td>1</td>\n",
       "      <td>2018-01-01</td>\n",
       "      <td>00629028721997819259</td>\n",
       "      <td>A</td>\n",
       "      <td>0</td>\n",
       "      <td>returning</td>\n",
       "      <td>1446553652</td>\n",
       "    </tr>\n",
       "  </tbody>\n",
       "</table>\n",
       "</div>"
      ],
      "text/plain": [
       "   CVR        date         fullvisitorid group  mCVR1    segment     visitid\n",
       "0    0  2018-01-01  50780742700347864206     A      1        new  1402569382\n",
       "1    1  2018-01-01  34191904571769561485     B      0        new  1485232119\n",
       "2    0  2018-01-01  59527551324205660629     B      1  returning  1499049536\n",
       "3    1  2018-01-01  13042206713666236957     A      0        new  1418451888\n",
       "4    1  2018-01-01  00629028721997819259     A      0  returning  1446553652"
      ]
     },
     "execution_count": 12,
     "metadata": {},
     "output_type": "execute_result"
    }
   ],
   "source": [
    "df.head()"
   ]
  },
  {
   "cell_type": "code",
   "execution_count": 13,
   "metadata": {},
   "outputs": [
    {
     "data": {
      "text/html": [
       "<div>\n",
       "<style scoped>\n",
       "    .dataframe tbody tr th:only-of-type {\n",
       "        vertical-align: middle;\n",
       "    }\n",
       "\n",
       "    .dataframe tbody tr th {\n",
       "        vertical-align: top;\n",
       "    }\n",
       "\n",
       "    .dataframe thead th {\n",
       "        text-align: right;\n",
       "    }\n",
       "</style>\n",
       "<table border=\"1\" class=\"dataframe\">\n",
       "  <thead>\n",
       "    <tr style=\"text-align: right;\">\n",
       "      <th></th>\n",
       "      <th>CVR</th>\n",
       "      <th>total</th>\n",
       "      <th>rate</th>\n",
       "    </tr>\n",
       "    <tr>\n",
       "      <th>group</th>\n",
       "      <th></th>\n",
       "      <th></th>\n",
       "      <th></th>\n",
       "    </tr>\n",
       "  </thead>\n",
       "  <tbody>\n",
       "    <tr>\n",
       "      <th>A</th>\n",
       "      <td>19763</td>\n",
       "      <td>49800</td>\n",
       "      <td>0.396847</td>\n",
       "    </tr>\n",
       "    <tr>\n",
       "      <th>B</th>\n",
       "      <td>21803</td>\n",
       "      <td>50200</td>\n",
       "      <td>0.434323</td>\n",
       "    </tr>\n",
       "  </tbody>\n",
       "</table>\n",
       "</div>"
      ],
      "text/plain": [
       "         CVR  total      rate\n",
       "group                        \n",
       "A      19763  49800  0.396847\n",
       "B      21803  50200  0.434323"
      ]
     },
     "execution_count": 13,
     "metadata": {},
     "output_type": "execute_result"
    }
   ],
   "source": [
    "get_test_summary(df,kpi='CVR')"
   ]
  },
  {
   "cell_type": "code",
   "execution_count": 14,
   "metadata": {},
   "outputs": [
    {
     "data": {
      "text/html": [
       "<div>\n",
       "<style scoped>\n",
       "    .dataframe tbody tr th:only-of-type {\n",
       "        vertical-align: middle;\n",
       "    }\n",
       "\n",
       "    .dataframe tbody tr th {\n",
       "        vertical-align: top;\n",
       "    }\n",
       "\n",
       "    .dataframe thead th {\n",
       "        text-align: right;\n",
       "    }\n",
       "</style>\n",
       "<table border=\"1\" class=\"dataframe\">\n",
       "  <thead>\n",
       "    <tr style=\"text-align: right;\">\n",
       "      <th></th>\n",
       "      <th>mCVR1</th>\n",
       "      <th>total</th>\n",
       "      <th>rate</th>\n",
       "    </tr>\n",
       "    <tr>\n",
       "      <th>group</th>\n",
       "      <th></th>\n",
       "      <th></th>\n",
       "      <th></th>\n",
       "    </tr>\n",
       "  </thead>\n",
       "  <tbody>\n",
       "    <tr>\n",
       "      <th>A</th>\n",
       "      <td>20151</td>\n",
       "      <td>49800</td>\n",
       "      <td>0.404639</td>\n",
       "    </tr>\n",
       "    <tr>\n",
       "      <th>B</th>\n",
       "      <td>21579</td>\n",
       "      <td>50200</td>\n",
       "      <td>0.429861</td>\n",
       "    </tr>\n",
       "  </tbody>\n",
       "</table>\n",
       "</div>"
      ],
      "text/plain": [
       "       mCVR1  total      rate\n",
       "group                        \n",
       "A      20151  49800  0.404639\n",
       "B      21579  50200  0.429861"
      ]
     },
     "execution_count": 14,
     "metadata": {},
     "output_type": "execute_result"
    }
   ],
   "source": [
    "get_test_summary(df,kpi='mCVR1')"
   ]
  },
  {
   "cell_type": "markdown",
   "metadata": {},
   "source": [
    "## Lets define our experiment, our variations and the segments that our data has"
   ]
  },
  {
   "cell_type": "code",
   "execution_count": 34,
   "metadata": {},
   "outputs": [],
   "source": [
    "var=variations(column_name='group',control_label='A',variation_label='B')\n",
    "eval_metrics=evaluation_metrics(kpis=['CVR','mCVR1'])\n",
    "segments=['new','returning']"
   ]
  },
  {
   "cell_type": "code",
   "execution_count": 35,
   "metadata": {},
   "outputs": [],
   "source": [
    "exp=experiment(df,kpis=eval_metrics,variations=var,segments=segments)"
   ]
  },
  {
   "cell_type": "markdown",
   "metadata": {},
   "source": [
    "## Now we need to iterate over the segments and evaluation metrics of our dataset and evaluate 1 by 1"
   ]
  },
  {
   "cell_type": "code",
   "execution_count": 48,
   "metadata": {},
   "outputs": [
    {
     "name": "stdout",
     "output_type": "stream",
     "text": [
      "KPI:CVR SEGMENT: all data ---> p_val = 4.678075390416941e-77 \n",
      "KPI:CVR SEGMENT: all data ---> relative convertion uplift = 0.09443257179247376 \n",
      "KPI:CVR SEGMENT: all data ---> standard errors = (0.002212273323154665, 0.0021923540874960925) \n",
      "KPI:CVR SEGMENT: all data ---> confidence interval = (0.029517978273279594, 0.04543266093694767) \n",
      "------------------------------------------------------------\n",
      "KPI:CVR SEGMENT: new ---> p_val = 2.6247674725258358e-36 \n",
      "KPI:CVR SEGMENT: new ---> relative convertion uplift = 0.09066245133721686 \n",
      "KPI:CVR SEGMENT: new ---> standard errors = (0.003123981785511419, 0.003094819366912208) \n",
      "KPI:CVR SEGMENT: new ---> confidence interval = (0.025052420727366406, 0.04747175114489183) \n",
      "------------------------------------------------------------\n",
      "KPI:CVR SEGMENT: returning ---> p_val = 7.903213944999589e-44 \n",
      "KPI:CVR SEGMENT: returning ---> relative convertion uplift = 0.09833417513602298 \n",
      "KPI:CVR SEGMENT: returning ---> standard errors = (0.0031332426653548555, 0.0031059740256869296) \n",
      "KPI:CVR SEGMENT: returning ---> confidence interval = (0.027415495689741172, 0.05001029746387802) \n",
      "------------------------------------------------------------\n",
      "KPI:mCVR1 SEGMENT: all data ---> p_val = 2.2473001644152275e-39 \n",
      "KPI:mCVR1 SEGMENT: all data ---> relative convertion uplift = 0.06233218087898519 \n",
      "KPI:mCVR1 SEGMENT: all data ---> standard errors = (0.002209543131389922, 0.00219942578604423) \n",
      "KPI:mCVR1 SEGMENT: all data ---> confidence interval = (0.017263874048577814, 0.03318013305553586) \n",
      "------------------------------------------------------------\n",
      "KPI:mCVR1 SEGMENT: new ---> p_val = 5.468977644883395e-20 \n",
      "KPI:mCVR1 SEGMENT: new ---> relative convertion uplift = 0.062100305844773294 \n",
      "KPI:mCVR1 SEGMENT: new ---> standard errors = (0.003119526484620416, 0.0031020596964328063) \n",
      "KPI:mCVR1 SEGMENT: new ---> confidence interval = (0.013980435072498295, 0.03641456907993895) \n",
      "------------------------------------------------------------\n",
      "KPI:mCVR1 SEGMENT: returning ---> p_val = 2.7039558294190345e-22 \n",
      "KPI:mCVR1 SEGMENT: returning ---> relative convertion uplift = 0.06258099759615376 \n",
      "KPI:mCVR1 SEGMENT: returning ---> standard errors = (0.0031300150951712674, 0.003118905525941914) \n",
      "KPI:mCVR1 SEGMENT: returning ---> confidence interval = (0.013959654642747111, 0.03654421958430694) \n",
      "------------------------------------------------------------\n"
     ]
    }
   ],
   "source": [
    "for kpi in eval_metrics.kpis:\n",
    "    # evaluate once for all segments together\n",
    "    print(\"KPI:{} SEGMENT: all data ---> p_val = {} \".format(kpi,exp.get_p_val(kpi=kpi)))\n",
    "    print(\"KPI:{} SEGMENT: all data ---> relative convertion uplift = {} \".format(kpi,exp.get_relative_conversion_uplift(kpi=kpi)))\n",
    "    print(\"KPI:{} SEGMENT: all data ---> standard errors = {} \".format(kpi,exp.get_standard_errors_of_test(kpi=kpi)))\n",
    "    print(\"KPI:{} SEGMENT: all data ---> confidence interval = {} \".format(kpi,exp.get_confidence_interval_of_test(kpi=kpi)))\n",
    "    print(\"------------------------------------------------------------\")\n",
    "    # evaluate for every segment now\n",
    "    for segment in segments:\n",
    "        print(\"KPI:{} SEGMENT: {} ---> p_val = {} \".format(kpi,segment,exp.get_p_val(kpi=kpi,segment=segment)))\n",
    "        print(\"KPI:{} SEGMENT: {} ---> relative convertion uplift = {} \".format(kpi,segment,exp.get_relative_conversion_uplift(kpi=kpi,segment=segment)))\n",
    "        print(\"KPI:{} SEGMENT: {} ---> standard errors = {} \".format(kpi,segment,exp.get_standard_errors_of_test(kpi=kpi,segment=segment)))\n",
    "        print(\"KPI:{} SEGMENT: {} ---> confidence interval = {} \".format(kpi,segment,exp.get_confidence_interval_of_test(kpi=kpi,segment=segment)))\n",
    "        print(\"------------------------------------------------------------\")\n",
    "\n",
    "    "
   ]
  }
 ],
 "metadata": {
  "kernelspec": {
   "display_name": "Python 3",
   "language": "python",
   "name": "python3"
  },
  "language_info": {
   "codemirror_mode": {
    "name": "ipython",
    "version": 3
   },
   "file_extension": ".py",
   "mimetype": "text/x-python",
   "name": "python",
   "nbconvert_exporter": "python",
   "pygments_lexer": "ipython3",
   "version": "3.6.4"
  }
 },
 "nbformat": 4,
 "nbformat_minor": 2
}
