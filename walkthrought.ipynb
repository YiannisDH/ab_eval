{
 "cells": [
  {
   "cell_type": "code",
   "execution_count": 26,
   "metadata": {},
   "outputs": [],
   "source": [
    "from ab_eval.core.utils import *\n",
    "from ab_eval.core.experiment import experiment\n",
    "from ab_eval.core.experiment_components import variations , evaluation_metrics"
   ]
  },
  {
   "cell_type": "markdown",
   "metadata": {},
   "source": [
    "## First of all we need to generate some fake data for our experiment"
   ]
  },
  {
   "cell_type": "code",
   "execution_count": 49,
   "metadata": {},
   "outputs": [
    {
     "name": "stderr",
     "output_type": "stream",
     "text": [
      "INFO:root:Fake test is generating with sample_size=5000.\n"
     ]
    }
   ],
   "source": [
    "df = generate_random_cvr_data(5000,0.4,0.43,days=10)"
   ]
  },
  {
   "cell_type": "markdown",
   "metadata": {},
   "source": [
    "## Lets have a look how the data looks like."
   ]
  },
  {
   "cell_type": "code",
   "execution_count": 50,
   "metadata": {},
   "outputs": [
    {
     "data": {
      "text/html": [
       "<div>\n",
       "<style scoped>\n",
       "    .dataframe tbody tr th:only-of-type {\n",
       "        vertical-align: middle;\n",
       "    }\n",
       "\n",
       "    .dataframe tbody tr th {\n",
       "        vertical-align: top;\n",
       "    }\n",
       "\n",
       "    .dataframe thead th {\n",
       "        text-align: right;\n",
       "    }\n",
       "</style>\n",
       "<table border=\"1\" class=\"dataframe\">\n",
       "  <thead>\n",
       "    <tr style=\"text-align: right;\">\n",
       "      <th></th>\n",
       "      <th>CVR</th>\n",
       "      <th>date</th>\n",
       "      <th>fullvisitorid</th>\n",
       "      <th>group</th>\n",
       "      <th>mCVR1</th>\n",
       "      <th>segment</th>\n",
       "      <th>visitid</th>\n",
       "    </tr>\n",
       "  </thead>\n",
       "  <tbody>\n",
       "    <tr>\n",
       "      <th>0</th>\n",
       "      <td>0</td>\n",
       "      <td>2018-01-01</td>\n",
       "      <td>80537723734249273914</td>\n",
       "      <td>A</td>\n",
       "      <td>0</td>\n",
       "      <td>returning</td>\n",
       "      <td>1414865098</td>\n",
       "    </tr>\n",
       "    <tr>\n",
       "      <th>1</th>\n",
       "      <td>1</td>\n",
       "      <td>2018-01-01</td>\n",
       "      <td>51699077307539839455</td>\n",
       "      <td>A</td>\n",
       "      <td>0</td>\n",
       "      <td>new</td>\n",
       "      <td>1421359039</td>\n",
       "    </tr>\n",
       "    <tr>\n",
       "      <th>2</th>\n",
       "      <td>0</td>\n",
       "      <td>2018-01-01</td>\n",
       "      <td>63797537711669010640</td>\n",
       "      <td>A</td>\n",
       "      <td>0</td>\n",
       "      <td>returning</td>\n",
       "      <td>1475603876</td>\n",
       "    </tr>\n",
       "    <tr>\n",
       "      <th>3</th>\n",
       "      <td>0</td>\n",
       "      <td>2018-01-01</td>\n",
       "      <td>61715365954659940725</td>\n",
       "      <td>B</td>\n",
       "      <td>0</td>\n",
       "      <td>new</td>\n",
       "      <td>1456445845</td>\n",
       "    </tr>\n",
       "    <tr>\n",
       "      <th>4</th>\n",
       "      <td>1</td>\n",
       "      <td>2018-01-01</td>\n",
       "      <td>05872662090507850198</td>\n",
       "      <td>A</td>\n",
       "      <td>0</td>\n",
       "      <td>new</td>\n",
       "      <td>1413250250</td>\n",
       "    </tr>\n",
       "  </tbody>\n",
       "</table>\n",
       "</div>"
      ],
      "text/plain": [
       "   CVR        date         fullvisitorid group  mCVR1    segment     visitid\n",
       "0    0  2018-01-01  80537723734249273914     A      0  returning  1414865098\n",
       "1    1  2018-01-01  51699077307539839455     A      0        new  1421359039\n",
       "2    0  2018-01-01  63797537711669010640     A      0  returning  1475603876\n",
       "3    0  2018-01-01  61715365954659940725     B      0        new  1456445845\n",
       "4    1  2018-01-01  05872662090507850198     A      0        new  1413250250"
      ]
     },
     "execution_count": 50,
     "metadata": {},
     "output_type": "execute_result"
    }
   ],
   "source": [
    "df.head()"
   ]
  },
  {
   "cell_type": "code",
   "execution_count": 51,
   "metadata": {},
   "outputs": [
    {
     "data": {
      "text/html": [
       "<div>\n",
       "<style scoped>\n",
       "    .dataframe tbody tr th:only-of-type {\n",
       "        vertical-align: middle;\n",
       "    }\n",
       "\n",
       "    .dataframe tbody tr th {\n",
       "        vertical-align: top;\n",
       "    }\n",
       "\n",
       "    .dataframe thead th {\n",
       "        text-align: right;\n",
       "    }\n",
       "</style>\n",
       "<table border=\"1\" class=\"dataframe\">\n",
       "  <thead>\n",
       "    <tr style=\"text-align: right;\">\n",
       "      <th></th>\n",
       "      <th>CVR</th>\n",
       "      <th>total</th>\n",
       "      <th>rate</th>\n",
       "    </tr>\n",
       "    <tr>\n",
       "      <th>group</th>\n",
       "      <th></th>\n",
       "      <th></th>\n",
       "      <th></th>\n",
       "    </tr>\n",
       "  </thead>\n",
       "  <tbody>\n",
       "    <tr>\n",
       "      <th>A</th>\n",
       "      <td>1004</td>\n",
       "      <td>2465</td>\n",
       "      <td>0.407302</td>\n",
       "    </tr>\n",
       "    <tr>\n",
       "      <th>B</th>\n",
       "      <td>1093</td>\n",
       "      <td>2535</td>\n",
       "      <td>0.431164</td>\n",
       "    </tr>\n",
       "  </tbody>\n",
       "</table>\n",
       "</div>"
      ],
      "text/plain": [
       "        CVR  total      rate\n",
       "group                       \n",
       "A      1004   2465  0.407302\n",
       "B      1093   2535  0.431164"
      ]
     },
     "execution_count": 51,
     "metadata": {},
     "output_type": "execute_result"
    }
   ],
   "source": [
    "get_test_summary(df,kpi='CVR')"
   ]
  },
  {
   "cell_type": "code",
   "execution_count": 52,
   "metadata": {},
   "outputs": [
    {
     "data": {
      "text/html": [
       "<div>\n",
       "<style scoped>\n",
       "    .dataframe tbody tr th:only-of-type {\n",
       "        vertical-align: middle;\n",
       "    }\n",
       "\n",
       "    .dataframe tbody tr th {\n",
       "        vertical-align: top;\n",
       "    }\n",
       "\n",
       "    .dataframe thead th {\n",
       "        text-align: right;\n",
       "    }\n",
       "</style>\n",
       "<table border=\"1\" class=\"dataframe\">\n",
       "  <thead>\n",
       "    <tr style=\"text-align: right;\">\n",
       "      <th></th>\n",
       "      <th>mCVR1</th>\n",
       "      <th>total</th>\n",
       "      <th>rate</th>\n",
       "    </tr>\n",
       "    <tr>\n",
       "      <th>group</th>\n",
       "      <th></th>\n",
       "      <th></th>\n",
       "      <th></th>\n",
       "    </tr>\n",
       "  </thead>\n",
       "  <tbody>\n",
       "    <tr>\n",
       "      <th>A</th>\n",
       "      <td>1012</td>\n",
       "      <td>2465</td>\n",
       "      <td>0.410548</td>\n",
       "    </tr>\n",
       "    <tr>\n",
       "      <th>B</th>\n",
       "      <td>1125</td>\n",
       "      <td>2535</td>\n",
       "      <td>0.443787</td>\n",
       "    </tr>\n",
       "  </tbody>\n",
       "</table>\n",
       "</div>"
      ],
      "text/plain": [
       "       mCVR1  total      rate\n",
       "group                        \n",
       "A       1012   2465  0.410548\n",
       "B       1125   2535  0.443787"
      ]
     },
     "execution_count": 52,
     "metadata": {},
     "output_type": "execute_result"
    }
   ],
   "source": [
    "get_test_summary(df,kpi='mCVR1')"
   ]
  },
  {
   "cell_type": "markdown",
   "metadata": {},
   "source": [
    "## Lets define our experiment, our variations and the segments that our data has"
   ]
  },
  {
   "cell_type": "code",
   "execution_count": 53,
   "metadata": {},
   "outputs": [],
   "source": [
    "var=variations(column_name='group',control_label='A',variation_label='B')\n",
    "eval_metrics=evaluation_metrics(kpis=['CVR','mCVR1'])\n",
    "segments=['new','returning']"
   ]
  },
  {
   "cell_type": "code",
   "execution_count": 54,
   "metadata": {},
   "outputs": [],
   "source": [
    "exp=experiment(df,kpis=eval_metrics,variations=var,segments=segments)"
   ]
  },
  {
   "cell_type": "markdown",
   "metadata": {},
   "source": [
    "## Now we need to iterate over the segments and evaluation metrics of our dataset and evaluate 1 by 1"
   ]
  },
  {
   "cell_type": "code",
   "execution_count": 55,
   "metadata": {},
   "outputs": [
    {
     "name": "stdout",
     "output_type": "stream",
     "text": [
      "KPI:CVR SEGMENT: all data ---> p_val = 2.6441787566852042e-05 \n",
      "KPI:CVR SEGMENT: all data ---> relative convertion uplift = 0.05858420361944726 \n",
      "KPI:CVR SEGMENT: all data ---> standard errors = (0.009836164101268155, 0.009896157052527232) \n",
      "KPI:CVR SEGMENT: all data ---> confidence interval = (-0.011772269276373419, 0.059495222975298405) \n",
      "------------------------------------------------------------\n",
      "KPI:CVR SEGMENT: new ---> p_val = 4.871925482269579e-05 \n",
      "KPI:CVR SEGMENT: new ---> relative convertion uplift = 0.03469199704900255 \n",
      "KPI:CVR SEGMENT: new ---> standard errors = (0.013480633526274172, 0.01398846116409443) \n",
      "KPI:CVR SEGMENT: new ---> confidence interval = (-0.03597159043761248, 0.06425372093299056) \n",
      "------------------------------------------------------------\n",
      "KPI:CVR SEGMENT: returning ---> p_val = 0.0 \n",
      "KPI:CVR SEGMENT: returning ---> relative convertion uplift = 0.08540170288091033 \n",
      "KPI:CVR SEGMENT: returning ---> standard errors = (0.01437744638310092, 0.014002101245524994) \n",
      "KPI:CVR SEGMENT: returning ---> confidence interval = (-0.015955877010307075, 0.0854705043755972) \n",
      "------------------------------------------------------------\n",
      "KPI:mCVR1 SEGMENT: all data ---> p_val = 5.512434567693252e-07 \n",
      "KPI:mCVR1 SEGMENT: all data ---> relative convertion uplift = 0.08096335103024066 \n",
      "KPI:mCVR1 SEGMENT: all data ---> standard errors = (0.009867766676685843, 0.009908266472790061) \n",
      "KPI:mCVR1 SEGMENT: all data ---> confidence interval = (-0.0022325826616002714, 0.0687112124730433) \n",
      "------------------------------------------------------------\n",
      "KPI:mCVR1 SEGMENT: new ---> p_val = 0.00607361408599862 \n",
      "KPI:mCVR1 SEGMENT: new ---> relative convertion uplift = -0.029392283490644194 \n",
      "KPI:mCVR1 SEGMENT: new ---> standard errors = (0.013428740064694182, 0.01406379439972684) \n",
      "KPI:mCVR1 SEGMENT: new ---> confidence interval = (-0.06259404469815899, 0.03772731539164964) \n",
      "------------------------------------------------------------\n",
      "KPI:mCVR1 SEGMENT: returning ---> p_val = 1.5496742403758192e-07 \n",
      "KPI:mCVR1 SEGMENT: returning ---> relative convertion uplift = 0.2087414680876541 \n",
      "KPI:mCVR1 SEGMENT: returning ---> standard errors = (0.014465738340060224, 0.013951473053224752) \n",
      "KPI:mCVR1 SEGMENT: returning ---> confidence interval = (0.03288900769139741, 0.1332902276667675) \n",
      "------------------------------------------------------------\n"
     ]
    }
   ],
   "source": [
    "for kpi in eval_metrics.kpis:\n",
    "    # evaluate once for all segments together\n",
    "    print(\"KPI:{} SEGMENT: all data ---> p_val = {} \".format(kpi,exp.get_p_val(kpi=kpi)))\n",
    "    print(\"KPI:{} SEGMENT: all data ---> relative convertion uplift = {} \".format(kpi,exp.get_relative_conversion_uplift(kpi=kpi)))\n",
    "    print(\"KPI:{} SEGMENT: all data ---> standard errors = {} \".format(kpi,exp.get_standard_errors_of_test(kpi=kpi)))\n",
    "    print(\"KPI:{} SEGMENT: all data ---> confidence interval = {} \".format(kpi,exp.get_confidence_interval_of_test(kpi=kpi)))\n",
    "    print(\"------------------------------------------------------------\")\n",
    "    # evaluate for every segment now\n",
    "    for segment in segments:\n",
    "        print(\"KPI:{} SEGMENT: {} ---> p_val = {} \".format(kpi,segment,exp.get_p_val(kpi=kpi,segment=segment)))\n",
    "        print(\"KPI:{} SEGMENT: {} ---> relative convertion uplift = {} \".format(kpi,segment,exp.get_relative_conversion_uplift(kpi=kpi,segment=segment)))\n",
    "        print(\"KPI:{} SEGMENT: {} ---> standard errors = {} \".format(kpi,segment,exp.get_standard_errors_of_test(kpi=kpi,segment=segment)))\n",
    "        print(\"KPI:{} SEGMENT: {} ---> confidence interval = {} \".format(kpi,segment,exp.get_confidence_interval_of_test(kpi=kpi,segment=segment)))\n",
    "        print(\"------------------------------------------------------------\")\n",
    "\n",
    "    "
   ]
  }
 ],
 "metadata": {
  "kernelspec": {
   "display_name": "Python 3",
   "language": "python",
   "name": "python3"
  },
  "language_info": {
   "codemirror_mode": {
    "name": "ipython",
    "version": 3
   },
   "file_extension": ".py",
   "mimetype": "text/x-python",
   "name": "python",
   "nbconvert_exporter": "python",
   "pygments_lexer": "ipython3",
   "version": "3.6.4"
  }
 },
 "nbformat": 4,
 "nbformat_minor": 2
}
