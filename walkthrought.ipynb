{
 "cells": [
  {
   "cell_type": "code",
   "execution_count": 18,
   "metadata": {},
   "outputs": [],
   "source": [
    "from ab_eval.core.utils import *\n",
    "from ab_eval.core.experiment import experiment\n",
    "from ab_eval.core.experiment_components import variations , evaluation_metrics"
   ]
  },
  {
   "cell_type": "markdown",
   "metadata": {},
   "source": [
    "## First of all we need to generate some fake data for our experiment"
   ]
  },
  {
   "cell_type": "code",
   "execution_count": 11,
   "metadata": {},
   "outputs": [
    {
     "name": "stderr",
     "output_type": "stream",
     "text": [
      "INFO:root:Fake test is generating with sample_size=5000.\n"
     ]
    }
   ],
   "source": [
    "df = generate_random_cvr_data(5000,0.4,0.43,days=10)"
   ]
  },
  {
   "cell_type": "markdown",
   "metadata": {},
   "source": [
    "## Lets have a look how the data looks like."
   ]
  },
  {
   "cell_type": "code",
   "execution_count": 12,
   "metadata": {},
   "outputs": [
    {
     "data": {
      "text/html": [
       "<div>\n",
       "<style scoped>\n",
       "    .dataframe tbody tr th:only-of-type {\n",
       "        vertical-align: middle;\n",
       "    }\n",
       "\n",
       "    .dataframe tbody tr th {\n",
       "        vertical-align: top;\n",
       "    }\n",
       "\n",
       "    .dataframe thead th {\n",
       "        text-align: right;\n",
       "    }\n",
       "</style>\n",
       "<table border=\"1\" class=\"dataframe\">\n",
       "  <thead>\n",
       "    <tr style=\"text-align: right;\">\n",
       "      <th></th>\n",
       "      <th>CVR</th>\n",
       "      <th>date</th>\n",
       "      <th>fullvisitorid</th>\n",
       "      <th>group</th>\n",
       "      <th>mCVR1</th>\n",
       "      <th>segment</th>\n",
       "      <th>visitid</th>\n",
       "    </tr>\n",
       "  </thead>\n",
       "  <tbody>\n",
       "    <tr>\n",
       "      <th>0</th>\n",
       "      <td>0</td>\n",
       "      <td>2018-01-01</td>\n",
       "      <td>08492701914092271001</td>\n",
       "      <td>A</td>\n",
       "      <td>0</td>\n",
       "      <td>returning</td>\n",
       "      <td>1472004254</td>\n",
       "    </tr>\n",
       "    <tr>\n",
       "      <th>1</th>\n",
       "      <td>0</td>\n",
       "      <td>2018-01-01</td>\n",
       "      <td>97499769218982435999</td>\n",
       "      <td>A</td>\n",
       "      <td>1</td>\n",
       "      <td>new</td>\n",
       "      <td>1426884364</td>\n",
       "    </tr>\n",
       "    <tr>\n",
       "      <th>2</th>\n",
       "      <td>1</td>\n",
       "      <td>2018-01-01</td>\n",
       "      <td>38246432175956214534</td>\n",
       "      <td>A</td>\n",
       "      <td>1</td>\n",
       "      <td>new</td>\n",
       "      <td>1420829193</td>\n",
       "    </tr>\n",
       "    <tr>\n",
       "      <th>3</th>\n",
       "      <td>1</td>\n",
       "      <td>2018-01-01</td>\n",
       "      <td>28367294409145967702</td>\n",
       "      <td>B</td>\n",
       "      <td>1</td>\n",
       "      <td>new</td>\n",
       "      <td>1494935418</td>\n",
       "    </tr>\n",
       "    <tr>\n",
       "      <th>4</th>\n",
       "      <td>0</td>\n",
       "      <td>2018-01-01</td>\n",
       "      <td>21640819928418135804</td>\n",
       "      <td>B</td>\n",
       "      <td>0</td>\n",
       "      <td>returning</td>\n",
       "      <td>1491623482</td>\n",
       "    </tr>\n",
       "  </tbody>\n",
       "</table>\n",
       "</div>"
      ],
      "text/plain": [
       "   CVR        date         fullvisitorid group  mCVR1    segment     visitid\n",
       "0    0  2018-01-01  08492701914092271001     A      0  returning  1472004254\n",
       "1    0  2018-01-01  97499769218982435999     A      1        new  1426884364\n",
       "2    1  2018-01-01  38246432175956214534     A      1        new  1420829193\n",
       "3    1  2018-01-01  28367294409145967702     B      1        new  1494935418\n",
       "4    0  2018-01-01  21640819928418135804     B      0  returning  1491623482"
      ]
     },
     "execution_count": 12,
     "metadata": {},
     "output_type": "execute_result"
    }
   ],
   "source": [
    "df.head()"
   ]
  },
  {
   "cell_type": "code",
   "execution_count": 13,
   "metadata": {},
   "outputs": [
    {
     "data": {
      "text/html": [
       "<div>\n",
       "<style scoped>\n",
       "    .dataframe tbody tr th:only-of-type {\n",
       "        vertical-align: middle;\n",
       "    }\n",
       "\n",
       "    .dataframe tbody tr th {\n",
       "        vertical-align: top;\n",
       "    }\n",
       "\n",
       "    .dataframe thead th {\n",
       "        text-align: right;\n",
       "    }\n",
       "</style>\n",
       "<table border=\"1\" class=\"dataframe\">\n",
       "  <thead>\n",
       "    <tr style=\"text-align: right;\">\n",
       "      <th></th>\n",
       "      <th>CVR</th>\n",
       "      <th>total</th>\n",
       "      <th>rate</th>\n",
       "    </tr>\n",
       "    <tr>\n",
       "      <th>group</th>\n",
       "      <th></th>\n",
       "      <th></th>\n",
       "      <th></th>\n",
       "    </tr>\n",
       "  </thead>\n",
       "  <tbody>\n",
       "    <tr>\n",
       "      <th>A</th>\n",
       "      <td>938</td>\n",
       "      <td>2471</td>\n",
       "      <td>0.379603</td>\n",
       "    </tr>\n",
       "    <tr>\n",
       "      <th>B</th>\n",
       "      <td>1080</td>\n",
       "      <td>2529</td>\n",
       "      <td>0.427046</td>\n",
       "    </tr>\n",
       "  </tbody>\n",
       "</table>\n",
       "</div>"
      ],
      "text/plain": [
       "        CVR  total      rate\n",
       "group                       \n",
       "A       938   2471  0.379603\n",
       "B      1080   2529  0.427046"
      ]
     },
     "execution_count": 13,
     "metadata": {},
     "output_type": "execute_result"
    }
   ],
   "source": [
    "get_test_summary(df,kpi='CVR')"
   ]
  },
  {
   "cell_type": "code",
   "execution_count": 14,
   "metadata": {},
   "outputs": [
    {
     "data": {
      "text/html": [
       "<div>\n",
       "<style scoped>\n",
       "    .dataframe tbody tr th:only-of-type {\n",
       "        vertical-align: middle;\n",
       "    }\n",
       "\n",
       "    .dataframe tbody tr th {\n",
       "        vertical-align: top;\n",
       "    }\n",
       "\n",
       "    .dataframe thead th {\n",
       "        text-align: right;\n",
       "    }\n",
       "</style>\n",
       "<table border=\"1\" class=\"dataframe\">\n",
       "  <thead>\n",
       "    <tr style=\"text-align: right;\">\n",
       "      <th></th>\n",
       "      <th>mCVR1</th>\n",
       "      <th>total</th>\n",
       "      <th>rate</th>\n",
       "    </tr>\n",
       "    <tr>\n",
       "      <th>group</th>\n",
       "      <th></th>\n",
       "      <th></th>\n",
       "      <th></th>\n",
       "    </tr>\n",
       "  </thead>\n",
       "  <tbody>\n",
       "    <tr>\n",
       "      <th>A</th>\n",
       "      <td>991</td>\n",
       "      <td>2471</td>\n",
       "      <td>0.401052</td>\n",
       "    </tr>\n",
       "    <tr>\n",
       "      <th>B</th>\n",
       "      <td>1042</td>\n",
       "      <td>2529</td>\n",
       "      <td>0.412021</td>\n",
       "    </tr>\n",
       "  </tbody>\n",
       "</table>\n",
       "</div>"
      ],
      "text/plain": [
       "       mCVR1  total      rate\n",
       "group                        \n",
       "A        991   2471  0.401052\n",
       "B       1042   2529  0.412021"
      ]
     },
     "execution_count": 14,
     "metadata": {},
     "output_type": "execute_result"
    }
   ],
   "source": [
    "get_test_summary(df,kpi='mCVR1')"
   ]
  },
  {
   "cell_type": "markdown",
   "metadata": {},
   "source": [
    "## Lets define our experiment, our variations and the segments that our data has"
   ]
  },
  {
   "cell_type": "code",
   "execution_count": 15,
   "metadata": {},
   "outputs": [],
   "source": [
    "var=variations(column_name='group',control_label='A',variation_label='B')\n",
    "eval_metrics=evaluation_metrics(kpis=['CVR','mCVR1'])\n",
    "segments=['new','returning']"
   ]
  },
  {
   "cell_type": "code",
   "execution_count": 16,
   "metadata": {},
   "outputs": [],
   "source": [
    "exp=experiment(df,kpis=eval_metrics,variations=var,segments=segments)"
   ]
  },
  {
   "cell_type": "markdown",
   "metadata": {},
   "source": [
    "## Now we need to iterate over the segments and evaluation metrics of our dataset and evaluate 1 by 1"
   ]
  },
  {
   "cell_type": "code",
   "execution_count": 17,
   "metadata": {},
   "outputs": [
    {
     "name": "stdout",
     "output_type": "stream",
     "text": [
      "KPI:CVR SEGMENT: all data ---> {'z-score': 3.418631473138866, 'p-value': 0.000629369043491097} \n",
      "KPI:CVR SEGMENT: all data ---> relative convertion uplift = 0.12498008179741868 \n",
      "KPI:CVR SEGMENT: all data ---> standard errors = (0.009836097532712524, 0.009762552412781612) \n",
      "KPI:CVR SEGMENT: all data ---> confidence interval = (0.011630000896044067, 0.08325572692749192) \n",
      "------------------------------------------------------------\n",
      "KPI:CVR SEGMENT: new ---> {'z-score': 2.721548675631691, 'p-value': 0.006497681518794328} \n",
      "KPI:CVR SEGMENT: new ---> relative convertion uplift = 0.1435838898732452 \n",
      "KPI:CVR SEGMENT: new ---> standard errors = (0.013886523349090503, 0.01361108253296306) \n",
      "KPI:CVR SEGMENT: new ---> confidence interval = (0.0025267898953458545, 0.10347627279548274) \n",
      "------------------------------------------------------------\n",
      "KPI:CVR SEGMENT: returning ---> {'z-score': 2.0993405484791974, 'p-value': 0.03578689140608202} \n",
      "KPI:CVR SEGMENT: returning ---> relative convertion uplift = 0.1063331196923571 \n",
      "KPI:CVR SEGMENT: returning ---> standard errors = (0.013932784906612358, 0.014001578531365811) \n",
      "KPI:CVR SEGMENT: returning ---> confidence interval = (-0.009294557174534021, 0.09232898672013083) \n",
      "------------------------------------------------------------\n",
      "KPI:mCVR1 SEGMENT: all data ---> {'z-score': 0.7894231555766428, 'p-value': 0.42986472658353314} \n",
      "KPI:mCVR1 SEGMENT: all data ---> relative convertion uplift = 0.02734894796545736 \n",
      "KPI:mCVR1 SEGMENT: all data ---> standard errors = (0.009787372098245737, 0.009859583442816927) \n",
      "KPI:mCVR1 SEGMENT: all data ---> confidence interval = (-0.024902582042818144, 0.046839293846758445) \n",
      "------------------------------------------------------------\n",
      "KPI:mCVR1 SEGMENT: new ---> {'z-score': 1.7273180643545916, 'p-value': 0.08411055667757135} \n",
      "KPI:mCVR1 SEGMENT: new ---> relative convertion uplift = 0.08564589115722007 \n",
      "KPI:mCVR1 SEGMENT: new ---> standard errors = (0.013916586562902495, 0.013790565456477905) \n",
      "KPI:mCVR1 SEGMENT: new ---> confidence interval = (-0.016324778494595002, 0.08405112361016918) \n",
      "------------------------------------------------------------\n",
      "KPI:mCVR1 SEGMENT: returning ---> {'z-score': -0.6165137605962056, 'p-value': 0.5375554927911876} \n",
      "KPI:mCVR1 SEGMENT: returning ---> relative convertion uplift = -0.029835878645005864 \n",
      "KPI:mCVR1 SEGMENT: returning ---> standard errors = (0.013748660232253877, 0.01409943444296951) \n",
      "KPI:mCVR1 SEGMENT: returning ---> confidence interval = (-0.0634406595608336, 0.03915907133903311) \n",
      "------------------------------------------------------------\n"
     ]
    }
   ],
   "source": [
    "for kpi in eval_metrics.kpis:\n",
    "    # evaluate once for all segments together\n",
    "    print(\"KPI:{} SEGMENT: all data ---> {} \".format(kpi,exp.get_p_val(kpi=kpi)))\n",
    "    print(\"KPI:{} SEGMENT: all data ---> relative convertion uplift = {} \".format(kpi,exp.get_relative_conversion_uplift(kpi=kpi)))\n",
    "    print(\"KPI:{} SEGMENT: all data ---> standard errors = {} \".format(kpi,exp.get_standard_errors_of_test(kpi=kpi)))\n",
    "    print(\"KPI:{} SEGMENT: all data ---> confidence interval = {} \".format(kpi,exp.get_confidence_interval_of_test(kpi=kpi)))\n",
    "    print(\"------------------------------------------------------------\")\n",
    "    # evaluate for every segment now\n",
    "    for segment in segments:\n",
    "        print(\"KPI:{} SEGMENT: {} ---> {} \".format(kpi,segment,exp.get_p_val(kpi=kpi,segment=segment)))\n",
    "        print(\"KPI:{} SEGMENT: {} ---> relative convertion uplift = {} \".format(kpi,segment,exp.get_relative_conversion_uplift(kpi=kpi,segment=segment)))\n",
    "        print(\"KPI:{} SEGMENT: {} ---> standard errors = {} \".format(kpi,segment,exp.get_standard_errors_of_test(kpi=kpi,segment=segment)))\n",
    "        print(\"KPI:{} SEGMENT: {} ---> confidence interval = {} \".format(kpi,segment,exp.get_confidence_interval_of_test(kpi=kpi,segment=segment)))\n",
    "        print(\"------------------------------------------------------------\")\n",
    "\n",
    "    "
   ]
  },
  {
   "cell_type": "code",
   "execution_count": null,
   "metadata": {},
   "outputs": [],
   "source": []
  }
 ],
 "metadata": {
  "kernelspec": {
   "display_name": "Python 3",
   "language": "python",
   "name": "python3"
  },
  "language_info": {
   "codemirror_mode": {
    "name": "ipython",
    "version": 3
   },
   "file_extension": ".py",
   "mimetype": "text/x-python",
   "name": "python",
   "nbconvert_exporter": "python",
   "pygments_lexer": "ipython3",
   "version": "3.6.4"
  }
 },
 "nbformat": 4,
 "nbformat_minor": 2
}
