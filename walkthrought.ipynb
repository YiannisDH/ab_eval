{
 "cells": [
  {
   "cell_type": "code",
   "execution_count": 1,
   "metadata": {},
   "outputs": [
    {
     "name": "stderr",
     "output_type": "stream",
     "text": [
      "/Users/yiannis.moschonas/anaconda3/lib/python3.6/site-packages/statsmodels/compat/pandas.py:56: FutureWarning: The pandas.core.datetools module is deprecated and will be removed in a future version. Please use the pandas.tseries module instead.\n",
      "  from pandas.core import datetools\n"
     ]
    }
   ],
   "source": [
    "from ab_eval.core.utils import *\n",
    "from ab_eval.core.experiment import experiment\n",
    "from ab_eval.core.experiment_components import variations , evaluation_metrics"
   ]
  },
  {
   "cell_type": "markdown",
   "metadata": {},
   "source": [
    "## First of all we need to generate some fake data for our experiment"
   ]
  },
  {
   "cell_type": "code",
   "execution_count": 2,
   "metadata": {},
   "outputs": [
    {
     "name": "stderr",
     "output_type": "stream",
     "text": [
      "INFO:root:Fake test is generating with sample_size=5000.\n"
     ]
    }
   ],
   "source": [
    "df = generate_random_cvr_data(5000,0.4,0.43,days=10)"
   ]
  },
  {
   "cell_type": "markdown",
   "metadata": {},
   "source": [
    "## Lets have a look how the data looks like."
   ]
  },
  {
   "cell_type": "code",
   "execution_count": 3,
   "metadata": {},
   "outputs": [
    {
     "data": {
      "text/html": [
       "<div>\n",
       "<style scoped>\n",
       "    .dataframe tbody tr th:only-of-type {\n",
       "        vertical-align: middle;\n",
       "    }\n",
       "\n",
       "    .dataframe tbody tr th {\n",
       "        vertical-align: top;\n",
       "    }\n",
       "\n",
       "    .dataframe thead th {\n",
       "        text-align: right;\n",
       "    }\n",
       "</style>\n",
       "<table border=\"1\" class=\"dataframe\">\n",
       "  <thead>\n",
       "    <tr style=\"text-align: right;\">\n",
       "      <th></th>\n",
       "      <th>CVR</th>\n",
       "      <th>date</th>\n",
       "      <th>fullvisitorid</th>\n",
       "      <th>group</th>\n",
       "      <th>mCVR1</th>\n",
       "      <th>segment</th>\n",
       "      <th>visitid</th>\n",
       "    </tr>\n",
       "  </thead>\n",
       "  <tbody>\n",
       "    <tr>\n",
       "      <th>0</th>\n",
       "      <td>0</td>\n",
       "      <td>2018-01-01</td>\n",
       "      <td>99373702771986286129</td>\n",
       "      <td>A</td>\n",
       "      <td>0</td>\n",
       "      <td>new</td>\n",
       "      <td>1464706444</td>\n",
       "    </tr>\n",
       "    <tr>\n",
       "      <th>1</th>\n",
       "      <td>0</td>\n",
       "      <td>2018-01-01</td>\n",
       "      <td>28023764636447075827</td>\n",
       "      <td>B</td>\n",
       "      <td>0</td>\n",
       "      <td>new</td>\n",
       "      <td>1442260356</td>\n",
       "    </tr>\n",
       "    <tr>\n",
       "      <th>2</th>\n",
       "      <td>0</td>\n",
       "      <td>2018-01-01</td>\n",
       "      <td>81813774842938704599</td>\n",
       "      <td>B</td>\n",
       "      <td>1</td>\n",
       "      <td>returning</td>\n",
       "      <td>1480758114</td>\n",
       "    </tr>\n",
       "    <tr>\n",
       "      <th>3</th>\n",
       "      <td>0</td>\n",
       "      <td>2018-01-01</td>\n",
       "      <td>51980751449536534861</td>\n",
       "      <td>A</td>\n",
       "      <td>1</td>\n",
       "      <td>new</td>\n",
       "      <td>1491826492</td>\n",
       "    </tr>\n",
       "    <tr>\n",
       "      <th>4</th>\n",
       "      <td>1</td>\n",
       "      <td>2018-01-01</td>\n",
       "      <td>10126893830791788268</td>\n",
       "      <td>A</td>\n",
       "      <td>0</td>\n",
       "      <td>new</td>\n",
       "      <td>1464793916</td>\n",
       "    </tr>\n",
       "  </tbody>\n",
       "</table>\n",
       "</div>"
      ],
      "text/plain": [
       "   CVR        date         fullvisitorid group  mCVR1    segment     visitid\n",
       "0    0  2018-01-01  99373702771986286129     A      0        new  1464706444\n",
       "1    0  2018-01-01  28023764636447075827     B      0        new  1442260356\n",
       "2    0  2018-01-01  81813774842938704599     B      1  returning  1480758114\n",
       "3    0  2018-01-01  51980751449536534861     A      1        new  1491826492\n",
       "4    1  2018-01-01  10126893830791788268     A      0        new  1464793916"
      ]
     },
     "execution_count": 3,
     "metadata": {},
     "output_type": "execute_result"
    }
   ],
   "source": [
    "df.head()"
   ]
  },
  {
   "cell_type": "code",
   "execution_count": 4,
   "metadata": {},
   "outputs": [
    {
     "data": {
      "text/html": [
       "<div>\n",
       "<style scoped>\n",
       "    .dataframe tbody tr th:only-of-type {\n",
       "        vertical-align: middle;\n",
       "    }\n",
       "\n",
       "    .dataframe tbody tr th {\n",
       "        vertical-align: top;\n",
       "    }\n",
       "\n",
       "    .dataframe thead th {\n",
       "        text-align: right;\n",
       "    }\n",
       "</style>\n",
       "<table border=\"1\" class=\"dataframe\">\n",
       "  <thead>\n",
       "    <tr style=\"text-align: right;\">\n",
       "      <th></th>\n",
       "      <th>CVR</th>\n",
       "      <th>total</th>\n",
       "      <th>rate</th>\n",
       "    </tr>\n",
       "    <tr>\n",
       "      <th>group</th>\n",
       "      <th></th>\n",
       "      <th></th>\n",
       "      <th></th>\n",
       "    </tr>\n",
       "  </thead>\n",
       "  <tbody>\n",
       "    <tr>\n",
       "      <th>A</th>\n",
       "      <td>939</td>\n",
       "      <td>2466</td>\n",
       "      <td>0.380779</td>\n",
       "    </tr>\n",
       "    <tr>\n",
       "      <th>B</th>\n",
       "      <td>1127</td>\n",
       "      <td>2534</td>\n",
       "      <td>0.444751</td>\n",
       "    </tr>\n",
       "  </tbody>\n",
       "</table>\n",
       "</div>"
      ],
      "text/plain": [
       "        CVR  total      rate\n",
       "group                       \n",
       "A       939   2466  0.380779\n",
       "B      1127   2534  0.444751"
      ]
     },
     "execution_count": 4,
     "metadata": {},
     "output_type": "execute_result"
    }
   ],
   "source": [
    "get_test_summary(df,kpi='CVR')"
   ]
  },
  {
   "cell_type": "code",
   "execution_count": 5,
   "metadata": {},
   "outputs": [
    {
     "data": {
      "text/html": [
       "<div>\n",
       "<style scoped>\n",
       "    .dataframe tbody tr th:only-of-type {\n",
       "        vertical-align: middle;\n",
       "    }\n",
       "\n",
       "    .dataframe tbody tr th {\n",
       "        vertical-align: top;\n",
       "    }\n",
       "\n",
       "    .dataframe thead th {\n",
       "        text-align: right;\n",
       "    }\n",
       "</style>\n",
       "<table border=\"1\" class=\"dataframe\">\n",
       "  <thead>\n",
       "    <tr style=\"text-align: right;\">\n",
       "      <th></th>\n",
       "      <th>mCVR1</th>\n",
       "      <th>total</th>\n",
       "      <th>rate</th>\n",
       "    </tr>\n",
       "    <tr>\n",
       "      <th>group</th>\n",
       "      <th></th>\n",
       "      <th></th>\n",
       "      <th></th>\n",
       "    </tr>\n",
       "  </thead>\n",
       "  <tbody>\n",
       "    <tr>\n",
       "      <th>A</th>\n",
       "      <td>947</td>\n",
       "      <td>2466</td>\n",
       "      <td>0.384023</td>\n",
       "    </tr>\n",
       "    <tr>\n",
       "      <th>B</th>\n",
       "      <td>1126</td>\n",
       "      <td>2534</td>\n",
       "      <td>0.444357</td>\n",
       "    </tr>\n",
       "  </tbody>\n",
       "</table>\n",
       "</div>"
      ],
      "text/plain": [
       "       mCVR1  total      rate\n",
       "group                        \n",
       "A        947   2466  0.384023\n",
       "B       1126   2534  0.444357"
      ]
     },
     "execution_count": 5,
     "metadata": {},
     "output_type": "execute_result"
    }
   ],
   "source": [
    "get_test_summary(df,kpi='mCVR1')"
   ]
  },
  {
   "cell_type": "markdown",
   "metadata": {},
   "source": [
    "## Lets define our experiment, our variations and the segments that our data has"
   ]
  },
  {
   "cell_type": "code",
   "execution_count": 6,
   "metadata": {},
   "outputs": [],
   "source": [
    "var=variations(column_name='group',control_label='A',variation_label='B')\n",
    "eval_metrics=evaluation_metrics(kpis=['CVR','mCVR1'])\n",
    "segments=['new','returning']"
   ]
  },
  {
   "cell_type": "code",
   "execution_count": 7,
   "metadata": {},
   "outputs": [],
   "source": [
    "exp=experiment(df,kpis=eval_metrics,variations=var,segments=segments)"
   ]
  },
  {
   "cell_type": "markdown",
   "metadata": {},
   "source": [
    "## Now we need to iterate over the segments and evaluation metrics of our dataset and evaluate 1 by 1"
   ]
  },
  {
   "cell_type": "code",
   "execution_count": 8,
   "metadata": {},
   "outputs": [
    {
     "name": "stdout",
     "output_type": "stream",
     "text": [
      "KPI:CVR SEGMENT: all data ---> {'z-score': 4.592878304726133, 'p-value': 4.37174023326167e-06} \n",
      "KPI:CVR SEGMENT: all data ---> relative convertion uplift = 0.16800522478950805 \n",
      "KPI:CVR SEGMENT: all data ---> standard errors = (0.009871862346527786, 0.009778285340407769) \n",
      "KPI:CVR SEGMENT: all data ---> confidence interval = (0.028341426645442327, 0.09960415816992511) \n",
      "------------------------------------------------------------\n",
      "KPI:CVR SEGMENT: new ---> {'z-score': 3.00818179608962, 'p-value': 0.0026281586876061996} \n",
      "KPI:CVR SEGMENT: new ---> relative convertion uplift = 0.15653102401076088 \n",
      "KPI:CVR SEGMENT: new ---> standard errors = (0.014111344732003706, 0.013894631944984932) \n",
      "KPI:CVR SEGMENT: new ---> confidence interval = (0.008916448989502078, 0.11046727799742848) \n",
      "------------------------------------------------------------\n",
      "KPI:CVR SEGMENT: returning ---> {'z-score': 3.4809896197736165, 'p-value': 0.0004995648511763011} \n",
      "KPI:CVR SEGMENT: returning ---> relative convertion uplift = 0.17904497168063066 \n",
      "KPI:CVR SEGMENT: returning ---> standard errors = (0.01381444955244867, 0.013763446177042567) \n",
      "KPI:CVR SEGMENT: returning ---> confidence interval = (0.018060959095452647, 0.11809381840444814) \n",
      "------------------------------------------------------------\n",
      "KPI:mCVR1 SEGMENT: all data ---> {'z-score': 4.329484944555098, 'p-value': 1.4945848735904164e-05} \n",
      "KPI:mCVR1 SEGMENT: all data ---> relative convertion uplift = 0.15711060308422142 \n",
      "KPI:mCVR1 SEGMENT: all data ---> standard errors = (0.009870987611247056, 0.009794094003326807) \n",
      "KPI:mCVR1 SEGMENT: all data ---> confidence interval = (0.024715150469952124, 0.09595292829789678) \n",
      "------------------------------------------------------------\n",
      "KPI:mCVR1 SEGMENT: new ---> {'z-score': 2.712818123424441, 'p-value': 0.006671371155069485} \n",
      "KPI:mCVR1 SEGMENT: new ---> relative convertion uplift = 0.13845522053732642 \n",
      "KPI:mCVR1 SEGMENT: new ---> standard errors = (0.014119353647956988, 0.01394973897471595) \n",
      "KPI:mCVR1 SEGMENT: new ---> confidence interval = (0.0032544066790530374, 0.10460923485248112) \n",
      "------------------------------------------------------------\n",
      "KPI:mCVR1 SEGMENT: returning ---> {'z-score': 3.4082399062300834, 'p-value': 0.0006538338312643392} \n",
      "KPI:mCVR1 SEGMENT: returning ---> relative convertion uplift = 0.17589971429320328 \n",
      "KPI:mCVR1 SEGMENT: returning ---> standard errors = (0.013805268238536127, 0.013752119261365438) \n",
      "KPI:mCVR1 SEGMENT: returning ---> confidence interval = (0.01652440853960934, 0.11667296353771983) \n",
      "------------------------------------------------------------\n"
     ]
    }
   ],
   "source": [
    "for kpi in eval_metrics.kpis:\n",
    "    # evaluate once for all segments together\n",
    "    print(\"KPI:{} SEGMENT: all data ---> {} \".format(kpi,exp.get_p_val(kpi=kpi)))\n",
    "    print(\"KPI:{} SEGMENT: all data ---> relative convertion uplift = {} \".format(kpi,exp.get_relative_conversion_uplift(kpi=kpi)))\n",
    "    print(\"KPI:{} SEGMENT: all data ---> standard errors = {} \".format(kpi,exp.get_standard_errors_of_test(kpi=kpi)))\n",
    "    print(\"KPI:{} SEGMENT: all data ---> confidence interval = {} \".format(kpi,exp.get_confidence_interval_of_test(kpi=kpi)))\n",
    "    print(\"------------------------------------------------------------\")\n",
    "    # evaluate for every segment now\n",
    "    for segment in segments:\n",
    "        print(\"KPI:{} SEGMENT: {} ---> {} \".format(kpi,segment,exp.get_p_val(kpi=kpi,segment=segment)))\n",
    "        print(\"KPI:{} SEGMENT: {} ---> relative convertion uplift = {} \".format(kpi,segment,exp.get_relative_conversion_uplift(kpi=kpi,segment=segment)))\n",
    "        print(\"KPI:{} SEGMENT: {} ---> standard errors = {} \".format(kpi,segment,exp.get_standard_errors_of_test(kpi=kpi,segment=segment)))\n",
    "        print(\"KPI:{} SEGMENT: {} ---> confidence interval = {} \".format(kpi,segment,exp.get_confidence_interval_of_test(kpi=kpi,segment=segment)))\n",
    "        print(\"------------------------------------------------------------\")\n",
    "\n",
    "    "
   ]
  },
  {
   "cell_type": "code",
   "execution_count": null,
   "metadata": {},
   "outputs": [],
   "source": []
  }
 ],
 "metadata": {
  "kernelspec": {
   "display_name": "Python 3",
   "language": "python",
   "name": "python3"
  },
  "language_info": {
   "codemirror_mode": {
    "name": "ipython",
    "version": 3
   },
   "file_extension": ".py",
   "mimetype": "text/x-python",
   "name": "python",
   "nbconvert_exporter": "python",
   "pygments_lexer": "ipython3",
   "version": "3.6.4"
  }
 },
 "nbformat": 4,
 "nbformat_minor": 2
}
