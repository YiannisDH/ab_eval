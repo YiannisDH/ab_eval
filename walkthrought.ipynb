{
 "cells": [
  {
   "cell_type": "code",
   "execution_count": 1,
   "metadata": {},
   "outputs": [
    {
     "name": "stderr",
     "output_type": "stream",
     "text": [
      "/Users/yiannis.moschonas/anaconda3/lib/python3.6/site-packages/statsmodels/compat/pandas.py:56: FutureWarning: The pandas.core.datetools module is deprecated and will be removed in a future version. Please use the pandas.tseries module instead.\n",
      "  from pandas.core import datetools\n"
     ]
    }
   ],
   "source": [
    "from ab_eval.core.utils import *\n",
    "from ab_eval.core.experiment import experiment\n",
    "from ab_eval.core.experiment_components import variations , evaluation_metrics"
   ]
  },
  {
   "cell_type": "markdown",
   "metadata": {},
   "source": [
    "## First of all we need to generate some fake data for our experiment"
   ]
  },
  {
   "cell_type": "code",
   "execution_count": 2,
   "metadata": {},
   "outputs": [
    {
     "name": "stderr",
     "output_type": "stream",
     "text": [
      "INFO:root:Fake test is generating with sample_size=5000.\n"
     ]
    }
   ],
   "source": [
    "df = generate_random_cvr_data(5000,0.4,0.43,days=10)"
   ]
  },
  {
   "cell_type": "markdown",
   "metadata": {},
   "source": [
    "## Lets have a look how the data looks like."
   ]
  },
  {
   "cell_type": "code",
   "execution_count": 3,
   "metadata": {},
   "outputs": [
    {
     "data": {
      "text/html": [
       "<div>\n",
       "<style scoped>\n",
       "    .dataframe tbody tr th:only-of-type {\n",
       "        vertical-align: middle;\n",
       "    }\n",
       "\n",
       "    .dataframe tbody tr th {\n",
       "        vertical-align: top;\n",
       "    }\n",
       "\n",
       "    .dataframe thead th {\n",
       "        text-align: right;\n",
       "    }\n",
       "</style>\n",
       "<table border=\"1\" class=\"dataframe\">\n",
       "  <thead>\n",
       "    <tr style=\"text-align: right;\">\n",
       "      <th></th>\n",
       "      <th>group</th>\n",
       "      <th>segment</th>\n",
       "      <th>date</th>\n",
       "      <th>CVR_converted</th>\n",
       "      <th>mCVR1_converted</th>\n",
       "      <th>mCVR2_converted</th>\n",
       "      <th>mCVR3_converted</th>\n",
       "      <th>mCVR4_converted</th>\n",
       "      <th>CVR_sample_size</th>\n",
       "      <th>mCVR1_sample_size</th>\n",
       "    </tr>\n",
       "  </thead>\n",
       "  <tbody>\n",
       "    <tr>\n",
       "      <th>0</th>\n",
       "      <td>A</td>\n",
       "      <td>new</td>\n",
       "      <td>2018-01-01</td>\n",
       "      <td>49</td>\n",
       "      <td>57</td>\n",
       "      <td>53</td>\n",
       "      <td>50</td>\n",
       "      <td>59</td>\n",
       "      <td>128</td>\n",
       "      <td>128</td>\n",
       "    </tr>\n",
       "    <tr>\n",
       "      <th>1</th>\n",
       "      <td>A</td>\n",
       "      <td>new</td>\n",
       "      <td>2018-01-02</td>\n",
       "      <td>46</td>\n",
       "      <td>48</td>\n",
       "      <td>63</td>\n",
       "      <td>43</td>\n",
       "      <td>50</td>\n",
       "      <td>126</td>\n",
       "      <td>126</td>\n",
       "    </tr>\n",
       "    <tr>\n",
       "      <th>2</th>\n",
       "      <td>A</td>\n",
       "      <td>new</td>\n",
       "      <td>2018-01-03</td>\n",
       "      <td>50</td>\n",
       "      <td>60</td>\n",
       "      <td>52</td>\n",
       "      <td>39</td>\n",
       "      <td>47</td>\n",
       "      <td>118</td>\n",
       "      <td>118</td>\n",
       "    </tr>\n",
       "    <tr>\n",
       "      <th>3</th>\n",
       "      <td>A</td>\n",
       "      <td>new</td>\n",
       "      <td>2018-01-04</td>\n",
       "      <td>47</td>\n",
       "      <td>37</td>\n",
       "      <td>51</td>\n",
       "      <td>38</td>\n",
       "      <td>44</td>\n",
       "      <td>110</td>\n",
       "      <td>110</td>\n",
       "    </tr>\n",
       "    <tr>\n",
       "      <th>4</th>\n",
       "      <td>A</td>\n",
       "      <td>new</td>\n",
       "      <td>2018-01-05</td>\n",
       "      <td>56</td>\n",
       "      <td>50</td>\n",
       "      <td>52</td>\n",
       "      <td>61</td>\n",
       "      <td>49</td>\n",
       "      <td>141</td>\n",
       "      <td>141</td>\n",
       "    </tr>\n",
       "  </tbody>\n",
       "</table>\n",
       "</div>"
      ],
      "text/plain": [
       "  group segment        date  CVR_converted  mCVR1_converted  mCVR2_converted  \\\n",
       "0     A     new  2018-01-01             49               57               53   \n",
       "1     A     new  2018-01-02             46               48               63   \n",
       "2     A     new  2018-01-03             50               60               52   \n",
       "3     A     new  2018-01-04             47               37               51   \n",
       "4     A     new  2018-01-05             56               50               52   \n",
       "\n",
       "   mCVR3_converted  mCVR4_converted  CVR_sample_size  mCVR1_sample_size  \n",
       "0               50               59              128                128  \n",
       "1               43               50              126                126  \n",
       "2               39               47              118                118  \n",
       "3               38               44              110                110  \n",
       "4               61               49              141                141  "
      ]
     },
     "execution_count": 3,
     "metadata": {},
     "output_type": "execute_result"
    }
   ],
   "source": [
    "df.head()"
   ]
  },
  {
   "cell_type": "code",
   "execution_count": 4,
   "metadata": {},
   "outputs": [
    {
     "data": {
      "text/html": [
       "<div>\n",
       "<style scoped>\n",
       "    .dataframe tbody tr th:only-of-type {\n",
       "        vertical-align: middle;\n",
       "    }\n",
       "\n",
       "    .dataframe tbody tr th {\n",
       "        vertical-align: top;\n",
       "    }\n",
       "\n",
       "    .dataframe thead th {\n",
       "        text-align: right;\n",
       "    }\n",
       "</style>\n",
       "<table border=\"1\" class=\"dataframe\">\n",
       "  <thead>\n",
       "    <tr style=\"text-align: right;\">\n",
       "      <th></th>\n",
       "      <th>CVR</th>\n",
       "      <th>total</th>\n",
       "      <th>rate</th>\n",
       "    </tr>\n",
       "    <tr>\n",
       "      <th>group</th>\n",
       "      <th></th>\n",
       "      <th></th>\n",
       "      <th></th>\n",
       "    </tr>\n",
       "  </thead>\n",
       "  <tbody>\n",
       "    <tr>\n",
       "      <th>A</th>\n",
       "      <td>1019</td>\n",
       "      <td>2551</td>\n",
       "      <td>0.399451</td>\n",
       "    </tr>\n",
       "    <tr>\n",
       "      <th>B</th>\n",
       "      <td>1061</td>\n",
       "      <td>2449</td>\n",
       "      <td>0.433238</td>\n",
       "    </tr>\n",
       "  </tbody>\n",
       "</table>\n",
       "</div>"
      ],
      "text/plain": [
       "        CVR  total      rate\n",
       "group                       \n",
       "A      1019   2551  0.399451\n",
       "B      1061   2449  0.433238"
      ]
     },
     "execution_count": 4,
     "metadata": {},
     "output_type": "execute_result"
    }
   ],
   "source": [
    "get_test_summary(df,kpi='CVR')"
   ]
  },
  {
   "cell_type": "code",
   "execution_count": 5,
   "metadata": {},
   "outputs": [
    {
     "data": {
      "text/html": [
       "<div>\n",
       "<style scoped>\n",
       "    .dataframe tbody tr th:only-of-type {\n",
       "        vertical-align: middle;\n",
       "    }\n",
       "\n",
       "    .dataframe tbody tr th {\n",
       "        vertical-align: top;\n",
       "    }\n",
       "\n",
       "    .dataframe thead th {\n",
       "        text-align: right;\n",
       "    }\n",
       "</style>\n",
       "<table border=\"1\" class=\"dataframe\">\n",
       "  <thead>\n",
       "    <tr style=\"text-align: right;\">\n",
       "      <th></th>\n",
       "      <th>mCVR1</th>\n",
       "      <th>total</th>\n",
       "      <th>rate</th>\n",
       "    </tr>\n",
       "    <tr>\n",
       "      <th>group</th>\n",
       "      <th></th>\n",
       "      <th></th>\n",
       "      <th></th>\n",
       "    </tr>\n",
       "  </thead>\n",
       "  <tbody>\n",
       "    <tr>\n",
       "      <th>A</th>\n",
       "      <td>1032</td>\n",
       "      <td>2551</td>\n",
       "      <td>0.404547</td>\n",
       "    </tr>\n",
       "    <tr>\n",
       "      <th>B</th>\n",
       "      <td>1075</td>\n",
       "      <td>2449</td>\n",
       "      <td>0.438955</td>\n",
       "    </tr>\n",
       "  </tbody>\n",
       "</table>\n",
       "</div>"
      ],
      "text/plain": [
       "       mCVR1  total      rate\n",
       "group                        \n",
       "A       1032   2551  0.404547\n",
       "B       1075   2449  0.438955"
      ]
     },
     "execution_count": 5,
     "metadata": {},
     "output_type": "execute_result"
    }
   ],
   "source": [
    "get_test_summary(df,kpi='mCVR1')"
   ]
  },
  {
   "cell_type": "markdown",
   "metadata": {},
   "source": [
    "## Lets define our experiment, our variations and the segments that our data has"
   ]
  },
  {
   "cell_type": "code",
   "execution_count": 6,
   "metadata": {},
   "outputs": [],
   "source": [
    "var=variations(column_name='group',control_label='A',variation_label='B')\n",
    "eval_metrics=evaluation_metrics(kpis=['CVR','mCVR1'])\n",
    "segments=['new','returning']"
   ]
  },
  {
   "cell_type": "code",
   "execution_count": 7,
   "metadata": {},
   "outputs": [],
   "source": [
    "exp=experiment(df,kpis=eval_metrics,variations=var,segments=segments)"
   ]
  },
  {
   "cell_type": "markdown",
   "metadata": {},
   "source": [
    "## Now we need to iterate over the segments and evaluation metrics of our dataset and evaluate 1 by 1"
   ]
  },
  {
   "cell_type": "code",
   "execution_count": 8,
   "metadata": {},
   "outputs": [
    {
     "name": "stdout",
     "output_type": "stream",
     "text": [
      "KPI:CVR SEGMENT: all data ---> {'z-score': 2.4230332434669988, 'p-value': 0.015391518128844674} \n",
      "KPI:CVR SEGMENT: all data ---> relative convertion uplift = 0.08458320092998248 \n",
      "KPI:CVR SEGMENT: all data ---> standard errors = (0.010013115997958452, 0.009697299003930949) \n",
      "KPI:CVR SEGMENT: all data ---> confidence interval = (-0.0016283268622771033, 0.06920204834220822) \n",
      "------------------------------------------------------------\n",
      "KPI:CVR SEGMENT: new ---> {'z-score': 1.9350270757189552, 'p-value': 0.052986973216859155} \n",
      "KPI:CVR SEGMENT: new ---> relative convertion uplift = 0.09552777102387142 \n",
      "KPI:CVR SEGMENT: new ---> standard errors = (0.01394264431769809, 0.013639161568775787) \n",
      "KPI:CVR SEGMENT: new ---> confidence interval = (-0.011990278308905394, 0.08752040699392746) \n",
      "------------------------------------------------------------\n",
      "KPI:CVR SEGMENT: returning ---> {'z-score': 1.4928660447025148, 'p-value': 0.1354722549451453} \n",
      "KPI:CVR SEGMENT: returning ---> relative convertion uplift = 0.07372047666348754 \n",
      "KPI:CVR SEGMENT: returning ---> standard errors = (0.01438928327692353, 0.013789018915662725) \n",
      "KPI:CVR SEGMENT: returning ---> confidence interval = (-0.020670422838141238, 0.08018252959176231) \n",
      "------------------------------------------------------------\n",
      "KPI:mCVR1 SEGMENT: all data ---> {'z-score': 2.4630911739173467, 'p-value': 0.013774488372145911} \n",
      "KPI:mCVR1 SEGMENT: all data ---> relative convertion uplift = 0.08505172179120722 \n",
      "KPI:mCVR1 SEGMENT: all data ---> standard errors = (0.010028002205456953, 0.009717466400284152) \n",
      "KPI:mCVR1 SEGMENT: all data ---> confidence interval = (-0.0009171750355534414, 0.06973205303518171) \n",
      "------------------------------------------------------------\n",
      "KPI:mCVR1 SEGMENT: new ---> {'z-score': 2.6187134513040924, 'p-value': 0.008826205354560792} \n",
      "KPI:mCVR1 SEGMENT: new ---> relative convertion uplift = 0.13024152771571693 \n",
      "KPI:mCVR1 SEGMENT: new ---> standard errors = (0.013981216500606535, 0.013625056093127953) \n",
      "KPI:mCVR1 SEGMENT: new ---> confidence interval = (0.001576249432504985, 0.10079257779930365) \n",
      "------------------------------------------------------------\n",
      "KPI:mCVR1 SEGMENT: returning ---> {'z-score': 0.8569965689342722, 'p-value': 0.39144678083104034} \n",
      "KPI:mCVR1 SEGMENT: returning ---> relative convertion uplift = 0.04112175251431149 \n",
      "KPI:mCVR1 SEGMENT: returning ---> standard errors = (0.01438928327692353, 0.013854056941031277) \n",
      "KPI:mCVR1 SEGMENT: returning ---> confidence interval = (-0.03319741445495276, 0.06743305991315521) \n",
      "------------------------------------------------------------\n"
     ]
    }
   ],
   "source": [
    "for kpi in eval_metrics.kpis:\n",
    "    # evaluate once for all segments together\n",
    "    print(\"KPI:{} SEGMENT: all data ---> {} \".format(kpi,exp.get_p_val(kpi=kpi)))\n",
    "    print(\"KPI:{} SEGMENT: all data ---> relative convertion uplift = {} \".format(kpi,exp.get_relative_conversion_uplift(kpi=kpi)))\n",
    "    print(\"KPI:{} SEGMENT: all data ---> standard errors = {} \".format(kpi,exp.get_standard_errors_of_test(kpi=kpi)))\n",
    "    print(\"KPI:{} SEGMENT: all data ---> confidence interval = {} \".format(kpi,exp.get_confidence_interval_of_test(kpi=kpi)))\n",
    "    print(\"------------------------------------------------------------\")\n",
    "    # evaluate for every segment now\n",
    "    for segment in segments:\n",
    "        print(\"KPI:{} SEGMENT: {} ---> {} \".format(kpi,segment,exp.get_p_val(kpi=kpi,segment=segment)))\n",
    "        print(\"KPI:{} SEGMENT: {} ---> relative convertion uplift = {} \".format(kpi,segment,exp.get_relative_conversion_uplift(kpi=kpi,segment=segment)))\n",
    "        print(\"KPI:{} SEGMENT: {} ---> standard errors = {} \".format(kpi,segment,exp.get_standard_errors_of_test(kpi=kpi,segment=segment)))\n",
    "        print(\"KPI:{} SEGMENT: {} ---> confidence interval = {} \".format(kpi,segment,exp.get_confidence_interval_of_test(kpi=kpi,segment=segment)))\n",
    "        print(\"------------------------------------------------------------\")\n",
    "\n",
    "    "
   ]
  },
  {
   "cell_type": "code",
   "execution_count": null,
   "metadata": {},
   "outputs": [],
   "source": []
  }
 ],
 "metadata": {
  "kernelspec": {
   "display_name": "Python 3",
   "language": "python",
   "name": "python3"
  },
  "language_info": {
   "codemirror_mode": {
    "name": "ipython",
    "version": 3
   },
   "file_extension": ".py",
   "mimetype": "text/x-python",
   "name": "python",
   "nbconvert_exporter": "python",
   "pygments_lexer": "ipython3",
   "version": "3.6.4"
  }
 },
 "nbformat": 4,
 "nbformat_minor": 2
}
