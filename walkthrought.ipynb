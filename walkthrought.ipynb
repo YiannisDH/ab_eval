{
 "cells": [
  {
   "cell_type": "code",
   "execution_count": 1,
   "metadata": {},
   "outputs": [
    {
     "name": "stderr",
     "output_type": "stream",
     "text": [
      "/Users/yiannis.moschonas/anaconda3/lib/python3.6/site-packages/statsmodels/compat/pandas.py:56: FutureWarning: The pandas.core.datetools module is deprecated and will be removed in a future version. Please use the pandas.tseries module instead.\n",
      "  from pandas.core import datetools\n"
     ]
    }
   ],
   "source": [
    "from ab_eval.core.utils import *\n",
    "from ab_eval.core.experiment import experiment\n",
    "from ab_eval.core.experiment_components import variations , evaluation_metrics"
   ]
  },
  {
   "cell_type": "markdown",
   "metadata": {},
   "source": [
    "## First of all we need to generate some fake data for our experiment"
   ]
  },
  {
   "cell_type": "code",
   "execution_count": 2,
   "metadata": {},
   "outputs": [
    {
     "name": "stderr",
     "output_type": "stream",
     "text": [
      "INFO:root:Fake test is generating with sample_size=5000.\n"
     ]
    }
   ],
   "source": [
    "df = generate_random_cvr_data(5000,0.4,0.43,days=10)"
   ]
  },
  {
   "cell_type": "markdown",
   "metadata": {},
   "source": [
    "## Lets have a look how the data looks like."
   ]
  },
  {
   "cell_type": "code",
   "execution_count": 3,
   "metadata": {},
   "outputs": [
    {
     "data": {
      "text/html": [
       "<div>\n",
       "<style scoped>\n",
       "    .dataframe tbody tr th:only-of-type {\n",
       "        vertical-align: middle;\n",
       "    }\n",
       "\n",
       "    .dataframe tbody tr th {\n",
       "        vertical-align: top;\n",
       "    }\n",
       "\n",
       "    .dataframe thead th {\n",
       "        text-align: right;\n",
       "    }\n",
       "</style>\n",
       "<table border=\"1\" class=\"dataframe\">\n",
       "  <thead>\n",
       "    <tr style=\"text-align: right;\">\n",
       "      <th></th>\n",
       "      <th>group</th>\n",
       "      <th>segment</th>\n",
       "      <th>date</th>\n",
       "      <th>CVR_converted</th>\n",
       "      <th>mCVR1_converted</th>\n",
       "      <th>mCVR2_converted</th>\n",
       "      <th>mCVR3_converted</th>\n",
       "      <th>mCVR4_converted</th>\n",
       "      <th>CVR_sample_size</th>\n",
       "      <th>mCVR1_sample_size</th>\n",
       "      <th>mCVR2_sample_size</th>\n",
       "      <th>mCVR3_sample_size</th>\n",
       "      <th>mCVR4_sample_size</th>\n",
       "    </tr>\n",
       "  </thead>\n",
       "  <tbody>\n",
       "    <tr>\n",
       "      <th>0</th>\n",
       "      <td>A</td>\n",
       "      <td>new</td>\n",
       "      <td>2018-01-01</td>\n",
       "      <td>42</td>\n",
       "      <td>42</td>\n",
       "      <td>38</td>\n",
       "      <td>38</td>\n",
       "      <td>43</td>\n",
       "      <td>103</td>\n",
       "      <td>103</td>\n",
       "      <td>103</td>\n",
       "      <td>103</td>\n",
       "      <td>103</td>\n",
       "    </tr>\n",
       "    <tr>\n",
       "      <th>1</th>\n",
       "      <td>A</td>\n",
       "      <td>new</td>\n",
       "      <td>2018-01-02</td>\n",
       "      <td>54</td>\n",
       "      <td>45</td>\n",
       "      <td>56</td>\n",
       "      <td>64</td>\n",
       "      <td>50</td>\n",
       "      <td>129</td>\n",
       "      <td>129</td>\n",
       "      <td>129</td>\n",
       "      <td>129</td>\n",
       "      <td>129</td>\n",
       "    </tr>\n",
       "    <tr>\n",
       "      <th>2</th>\n",
       "      <td>A</td>\n",
       "      <td>new</td>\n",
       "      <td>2018-01-03</td>\n",
       "      <td>50</td>\n",
       "      <td>41</td>\n",
       "      <td>56</td>\n",
       "      <td>54</td>\n",
       "      <td>54</td>\n",
       "      <td>117</td>\n",
       "      <td>117</td>\n",
       "      <td>117</td>\n",
       "      <td>117</td>\n",
       "      <td>117</td>\n",
       "    </tr>\n",
       "    <tr>\n",
       "      <th>3</th>\n",
       "      <td>A</td>\n",
       "      <td>new</td>\n",
       "      <td>2018-01-04</td>\n",
       "      <td>47</td>\n",
       "      <td>50</td>\n",
       "      <td>40</td>\n",
       "      <td>45</td>\n",
       "      <td>39</td>\n",
       "      <td>119</td>\n",
       "      <td>119</td>\n",
       "      <td>119</td>\n",
       "      <td>119</td>\n",
       "      <td>119</td>\n",
       "    </tr>\n",
       "    <tr>\n",
       "      <th>4</th>\n",
       "      <td>A</td>\n",
       "      <td>new</td>\n",
       "      <td>2018-01-05</td>\n",
       "      <td>50</td>\n",
       "      <td>51</td>\n",
       "      <td>54</td>\n",
       "      <td>45</td>\n",
       "      <td>42</td>\n",
       "      <td>121</td>\n",
       "      <td>121</td>\n",
       "      <td>121</td>\n",
       "      <td>121</td>\n",
       "      <td>121</td>\n",
       "    </tr>\n",
       "  </tbody>\n",
       "</table>\n",
       "</div>"
      ],
      "text/plain": [
       "  group segment        date  CVR_converted  mCVR1_converted  mCVR2_converted  \\\n",
       "0     A     new  2018-01-01             42               42               38   \n",
       "1     A     new  2018-01-02             54               45               56   \n",
       "2     A     new  2018-01-03             50               41               56   \n",
       "3     A     new  2018-01-04             47               50               40   \n",
       "4     A     new  2018-01-05             50               51               54   \n",
       "\n",
       "   mCVR3_converted  mCVR4_converted  CVR_sample_size  mCVR1_sample_size  \\\n",
       "0               38               43              103                103   \n",
       "1               64               50              129                129   \n",
       "2               54               54              117                117   \n",
       "3               45               39              119                119   \n",
       "4               45               42              121                121   \n",
       "\n",
       "   mCVR2_sample_size  mCVR3_sample_size  mCVR4_sample_size  \n",
       "0                103                103                103  \n",
       "1                129                129                129  \n",
       "2                117                117                117  \n",
       "3                119                119                119  \n",
       "4                121                121                121  "
      ]
     },
     "execution_count": 3,
     "metadata": {},
     "output_type": "execute_result"
    }
   ],
   "source": [
    "df.head()"
   ]
  },
  {
   "cell_type": "code",
   "execution_count": 4,
   "metadata": {},
   "outputs": [
    {
     "data": {
      "text/html": [
       "<div>\n",
       "<style scoped>\n",
       "    .dataframe tbody tr th:only-of-type {\n",
       "        vertical-align: middle;\n",
       "    }\n",
       "\n",
       "    .dataframe tbody tr th {\n",
       "        vertical-align: top;\n",
       "    }\n",
       "\n",
       "    .dataframe thead th {\n",
       "        text-align: right;\n",
       "    }\n",
       "</style>\n",
       "<table border=\"1\" class=\"dataframe\">\n",
       "  <thead>\n",
       "    <tr style=\"text-align: right;\">\n",
       "      <th></th>\n",
       "      <th>CVR</th>\n",
       "      <th>total</th>\n",
       "      <th>rate</th>\n",
       "    </tr>\n",
       "    <tr>\n",
       "      <th>group</th>\n",
       "      <th></th>\n",
       "      <th></th>\n",
       "      <th></th>\n",
       "    </tr>\n",
       "  </thead>\n",
       "  <tbody>\n",
       "    <tr>\n",
       "      <th>A</th>\n",
       "      <td>1024</td>\n",
       "      <td>2516</td>\n",
       "      <td>0.406995</td>\n",
       "    </tr>\n",
       "    <tr>\n",
       "      <th>B</th>\n",
       "      <td>1075</td>\n",
       "      <td>2484</td>\n",
       "      <td>0.432770</td>\n",
       "    </tr>\n",
       "  </tbody>\n",
       "</table>\n",
       "</div>"
      ],
      "text/plain": [
       "        CVR  total      rate\n",
       "group                       \n",
       "A      1024   2516  0.406995\n",
       "B      1075   2484  0.432770"
      ]
     },
     "execution_count": 4,
     "metadata": {},
     "output_type": "execute_result"
    }
   ],
   "source": [
    "get_test_summary(df,kpi='CVR')"
   ]
  },
  {
   "cell_type": "code",
   "execution_count": 5,
   "metadata": {},
   "outputs": [
    {
     "data": {
      "text/html": [
       "<div>\n",
       "<style scoped>\n",
       "    .dataframe tbody tr th:only-of-type {\n",
       "        vertical-align: middle;\n",
       "    }\n",
       "\n",
       "    .dataframe tbody tr th {\n",
       "        vertical-align: top;\n",
       "    }\n",
       "\n",
       "    .dataframe thead th {\n",
       "        text-align: right;\n",
       "    }\n",
       "</style>\n",
       "<table border=\"1\" class=\"dataframe\">\n",
       "  <thead>\n",
       "    <tr style=\"text-align: right;\">\n",
       "      <th></th>\n",
       "      <th>mCVR1</th>\n",
       "      <th>total</th>\n",
       "      <th>rate</th>\n",
       "    </tr>\n",
       "    <tr>\n",
       "      <th>group</th>\n",
       "      <th></th>\n",
       "      <th></th>\n",
       "      <th></th>\n",
       "    </tr>\n",
       "  </thead>\n",
       "  <tbody>\n",
       "    <tr>\n",
       "      <th>A</th>\n",
       "      <td>999</td>\n",
       "      <td>2516</td>\n",
       "      <td>0.397059</td>\n",
       "    </tr>\n",
       "    <tr>\n",
       "      <th>B</th>\n",
       "      <td>1071</td>\n",
       "      <td>2484</td>\n",
       "      <td>0.431159</td>\n",
       "    </tr>\n",
       "  </tbody>\n",
       "</table>\n",
       "</div>"
      ],
      "text/plain": [
       "       mCVR1  total      rate\n",
       "group                        \n",
       "A        999   2516  0.397059\n",
       "B       1071   2484  0.431159"
      ]
     },
     "execution_count": 5,
     "metadata": {},
     "output_type": "execute_result"
    }
   ],
   "source": [
    "get_test_summary(df,kpi='mCVR1')"
   ]
  },
  {
   "cell_type": "markdown",
   "metadata": {},
   "source": [
    "## Lets define our experiment, our variations and the segments that our data has"
   ]
  },
  {
   "cell_type": "code",
   "execution_count": 8,
   "metadata": {},
   "outputs": [],
   "source": [
    "var=variations(column_name='group',control_label='A',variation_label='B')\n",
    "eval_metrics=evaluation_metrics(kpis=['CVR','mCVR1','mCVR2','mCVR3','mCVR4'])\n",
    "segments=['new','returning']"
   ]
  },
  {
   "cell_type": "code",
   "execution_count": 9,
   "metadata": {},
   "outputs": [],
   "source": [
    "exp=experiment(df,kpis=eval_metrics,variations=var,segments=segments)"
   ]
  },
  {
   "cell_type": "markdown",
   "metadata": {},
   "source": [
    "## Lets analyze"
   ]
  },
  {
   "cell_type": "code",
   "execution_count": 10,
   "metadata": {},
   "outputs": [
    {
     "data": {
      "text/plain": [
       "'{\"CVR\": [{\"all\": {\"results\": {\"test\": {\"z-score\": 1.8464017780971695, \"p-value\": 0.06483388924258142}, \"relative_conversion_uplift\": 0.06332874144524948, \"standard_errors\": {\"control_standard_error\": 0.009941051906095743, \"variation_standard_error\": 0.009794187969751173}, \"confidence_interval\": {\"lower_limit\": -0.009694862450522146, \"upper_limit\": 0.06124385389721171}}}}], \"mCVR1\": [{\"all\": {\"results\": {\"test\": {\"z-score\": 2.447705212014174, \"p-value\": 0.014376922853795134}, \"relative_conversion_uplift\": 0.0858829844337092, \"standard_errors\": {\"control_standard_error\": 0.009936614220545313, \"variation_standard_error\": 0.009754602561839616}, \"confidence_interval\": {\"lower_limit\": -0.001444652730226717, \"upper_limit\": 0.06964584625111343}}}}], \"mCVR2\": [{\"all\": {\"results\": {\"test\": {\"z-score\": 3.167403091015235, \"p-value\": 0.0015380696319263539}, \"relative_conversion_uplift\": 0.11437996566455075, \"standard_errors\": {\"control_standard_error\": 0.009929756856964896, \"variation_standard_error\": 0.009699675418748338}, \"confidence_interval\": {\"lower_limit\": 0.00836994603058671, \"upper_limit\": 0.07964261896407554}}}}], \"mCVR3\": [{\"all\": {\"results\": {\"test\": {\"z-score\": 1.6165479009167139, \"p-value\": 0.10597590565729931}, \"relative_conversion_uplift\": 0.05541559732286633, \"standard_errors\": {\"control_standard_error\": 0.009932069447293431, \"variation_standard_error\": 0.009794187969751173}, \"confidence_interval\": {\"lower_limit\": -0.012950787682391926, \"upper_limit\": 0.05805855529655339}}}}], \"mCVR4\": [{\"all\": {\"results\": {\"test\": {\"z-score\": 0.25895479151913947, \"p-value\": 0.7956701220658151}, \"relative_conversion_uplift\": 0.008898642561162302, \"standard_errors\": {\"control_standard_error\": 0.009860153405169582, \"variation_standard_error\": 0.009783524518374005}, \"confidence_interval\": {\"lower_limit\": -0.032167835740411196, \"upper_limit\": 0.03936173040233652}}}}]}'"
      ]
     },
     "execution_count": 10,
     "metadata": {},
     "output_type": "execute_result"
    }
   ],
   "source": [
    "#analyze all the KPIs without segmentation\n",
    "exp.analyze()"
   ]
  },
  {
   "cell_type": "code",
   "execution_count": 14,
   "metadata": {},
   "outputs": [
    {
     "data": {
      "text/plain": [
       "'{\"CVR\": [{\"all\": {\"results\": {\"test\": {\"z-score\": 1.8464017780971695, \"p-value\": 0.06483388924258142}, \"relative_conversion_uplift\": 0.06332874144524948, \"standard_errors\": {\"control_standard_error\": 0.009941051906095743, \"variation_standard_error\": 0.009794187969751173}, \"confidence_interval\": {\"lower_limit\": -0.009694862450522146, \"upper_limit\": 0.06124385389721171}}}}], \"mCVR3\": [{\"all\": {\"results\": {\"test\": {\"z-score\": 1.6165479009167139, \"p-value\": 0.10597590565729931}, \"relative_conversion_uplift\": 0.05541559732286633, \"standard_errors\": {\"control_standard_error\": 0.009932069447293431, \"variation_standard_error\": 0.009794187969751173}, \"confidence_interval\": {\"lower_limit\": -0.012950787682391926, \"upper_limit\": 0.05805855529655339}}}}]}'"
      ]
     },
     "execution_count": 14,
     "metadata": {},
     "output_type": "execute_result"
    }
   ],
   "source": [
    "#analyze CVR and mCVR3 \n",
    "exp.analyze(kpis=['CVR','mCVR3'])"
   ]
  },
  {
   "cell_type": "code",
   "execution_count": 12,
   "metadata": {},
   "outputs": [
    {
     "data": {
      "text/plain": [
       "'{\"CVR\": [{\"all\": {\"results\": {\"test\": {\"z-score\": 1.8464017780971695, \"p-value\": 0.06483388924258142}, \"relative_conversion_uplift\": 0.06332874144524948, \"standard_errors\": {\"control_standard_error\": 0.009941051906095743, \"variation_standard_error\": 0.009794187969751173}, \"confidence_interval\": {\"lower_limit\": -0.009694862450522146, \"upper_limit\": 0.06124385389721171}}}}, {\"new\": {\"results\": {\"test\": {\"z-score\": 1.3397886490851865, \"p-value\": 0.18031406697858654}, \"relative_conversion_uplift\": 0.06495438382475092, \"standard_errors\": {\"control_standard_error\": 0.014303423318876912, \"variation_standard_error\": 0.013974654271974156}, \"confidence_interval\": {\"lower_limit\": -0.023687615126462433, \"upper_limit\": 0.07728414134446802}}}}, {\"returning\": {\"results\": {\"test\": {\"z-score\": 1.2824349531158277, \"p-value\": 0.19969010939763154}, \"relative_conversion_uplift\": 0.06224060058593757, \"standard_errors\": {\"control_standard_error\": 0.013823862226965269, \"variation_standard_error\": 0.013728780843523683}, \"confidence_interval\": {\"lower_limit\": -0.02484884004364058, \"upper_limit\": 0.07483658514167985}}}}], \"mCVR1\": [{\"all\": {\"results\": {\"test\": {\"z-score\": 2.447705212014174, \"p-value\": 0.014376922853795134}, \"relative_conversion_uplift\": 0.0858829844337092, \"standard_errors\": {\"control_standard_error\": 0.009936614220545313, \"variation_standard_error\": 0.009754602561839616}, \"confidence_interval\": {\"lower_limit\": -0.001444652730226717, \"upper_limit\": 0.06964584625111343}}}}, {\"new\": {\"results\": {\"test\": {\"z-score\": 1.9804655773546973, \"p-value\": 0.04765123759352891}, \"relative_conversion_uplift\": 0.10100800362428271, \"standard_errors\": {\"control_standard_error\": 0.014265398553675247, \"variation_standard_error\": 0.013845637225657157}, \"confidence_interval\": {\"lower_limit\": -0.011432554321453632, \"upper_limit\": 0.09022042499696181}}}}, {\"returning\": {\"results\": {\"test\": {\"z-score\": 1.480194597568212, \"p-value\": 0.13882132177332399}, \"relative_conversion_uplift\": 0.07152609223300965, \"standard_errors\": {\"control_standard_error\": 0.013848675473774726, \"variation_standard_error\": 0.013741847780111567}, \"confidence_interval\": {\"lower_limit\": -0.02083558760191903, \"upper_limit\": 0.07861745034701703}}}}], \"mCVR2\": [{\"all\": {\"results\": {\"test\": {\"z-score\": 3.167403091015235, \"p-value\": 0.0015380696319263539}, \"relative_conversion_uplift\": 0.11437996566455075, \"standard_errors\": {\"control_standard_error\": 0.009929756856964896, \"variation_standard_error\": 0.009699675418748338}, \"confidence_interval\": {\"lower_limit\": 0.00836994603058671, \"upper_limit\": 0.07964261896407554}}}}, {\"new\": {\"results\": {\"test\": {\"z-score\": 1.8152482959483012, \"p-value\": 0.06948576076685761}, \"relative_conversion_uplift\": 0.09236222899612977, \"standard_errors\": {\"control_standard_error\": 0.01425497219333443, \"variation_standard_error\": 0.013850775650809194}, \"confidence_interval\": {\"lower_limit\": -0.0147620671793562, \"upper_limit\": 0.08695494560501767}}}}, {\"returning\": {\"results\": {\"test\": {\"z-score\": 2.6592599308992346, \"p-value\": 0.007831251862454047}, \"relative_conversion_uplift\": 0.136330551242236, \"standard_errors\": {\"control_standard_error\": 0.013839634130636295, \"variation_standard_error\": 0.013585351481760183}, \"confidence_interval\": {\"lower_limit\": 0.0016946968128568884, \"upper_limit\": 0.10159574436361368}}}}], \"mCVR3\": [{\"all\": {\"results\": {\"test\": {\"z-score\": 1.6165479009167139, \"p-value\": 0.10597590565729931}, \"relative_conversion_uplift\": 0.05541559732286633, \"standard_errors\": {\"control_standard_error\": 0.009932069447293431, \"variation_standard_error\": 0.009794187969751173}, \"confidence_interval\": {\"lower_limit\": -0.012950787682391926, \"upper_limit\": 0.05805855529655339}}}}, {\"new\": {\"results\": {\"test\": {\"z-score\": 1.8201503313650023, \"p-value\": 0.06873611457889811}, \"relative_conversion_uplift\": 0.09148536045161117, \"standard_errors\": {\"control_standard_error\": 0.014278726765280596, \"variation_standard_error\": 0.013885636369981181}, \"confidence_interval\": {\"lower_limit\": -0.014456508060997658, \"upper_limit\": 0.08699606864470869}}}}, {\"returning\": {\"results\": {\"test\": {\"z-score\": 0.47631419101300687, \"p-value\": 0.6338505568243291}, \"relative_conversion_uplift\": 0.0223067434210527, \"standard_errors\": {\"control_standard_error\": 0.013823862226965269, \"variation_standard_error\": 0.013809722314099361}, \"confidence_interval\": {\"lower_limit\": -0.0403985598586108, \"upper_limit\": 0.05901375593704223}}}}], \"mCVR4\": [{\"all\": {\"results\": {\"test\": {\"z-score\": 0.25895479151913947, \"p-value\": 0.7956701220658151}, \"relative_conversion_uplift\": 0.008898642561162302, \"standard_errors\": {\"control_standard_error\": 0.009860153405169582, \"variation_standard_error\": 0.009783524518374005}, \"confidence_interval\": {\"lower_limit\": -0.032167835740411196, \"upper_limit\": 0.03936173040233652}}}}, {\"new\": {\"results\": {\"test\": {\"z-score\": 0.7333969718791256, \"p-value\": 0.4633163455628634}, \"relative_conversion_uplift\": 0.0370934334112629, \"standard_errors\": {\"control_standard_error\": 0.014153626149812944, \"variation_standard_error\": 0.013855874408813964}, \"confidence_interval\": {\"lower_limit\": -0.0366503921189255, \"upper_limit\": 0.06570342779640136}}}}, {\"returning\": {\"results\": {\"test\": {\"z-score\": -0.3642269482937734, \"p-value\": 0.7156885452062206}, \"relative_conversion_uplift\": -0.01703742937853104, \"standard_errors\": {\"control_standard_error\": 0.013743950640162336, \"variation_standard_error\": 0.013806018504878687}, \"confidence_interval\": {\"lower_limit\": -0.057085530839004785, \"upper_limit\": 0.04289435436841658}}}}]}'"
      ]
     },
     "execution_count": 12,
     "metadata": {},
     "output_type": "execute_result"
    }
   ],
   "source": [
    "#analyze all the KPIs with segmentation\n",
    "exp.analyze(analyze_segments=True)"
   ]
  },
  {
   "cell_type": "code",
   "execution_count": null,
   "metadata": {},
   "outputs": [],
   "source": []
  }
 ],
 "metadata": {
  "kernelspec": {
   "display_name": "Python 3",
   "language": "python",
   "name": "python3"
  },
  "language_info": {
   "codemirror_mode": {
    "name": "ipython",
    "version": 3
   },
   "file_extension": ".py",
   "mimetype": "text/x-python",
   "name": "python",
   "nbconvert_exporter": "python",
   "pygments_lexer": "ipython3",
   "version": "3.6.4"
  }
 },
 "nbformat": 4,
 "nbformat_minor": 2
}
